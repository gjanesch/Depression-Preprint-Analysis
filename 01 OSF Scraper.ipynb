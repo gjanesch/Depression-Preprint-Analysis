{
 "cells": [
  {
   "cell_type": "markdown",
   "metadata": {},
   "source": [
    "## SELENIUM CODE"
   ]
  },
  {
   "cell_type": "code",
   "execution_count": 1,
   "metadata": {},
   "outputs": [],
   "source": [
    "from collections import namedtuple\n",
    "from time import sleep\n",
    "\n",
    "from bs4 import BeautifulSoup\n",
    "import pandas as pd\n",
    "from selenium import webdriver\n",
    "from tqdm import tqdm\n",
    "\n",
    "SEARCH_URL = \"https://osf.io/preprints/discover?q=depression\"\n",
    "OSFPaperTuple = namedtuple(\"OSFPaperTuple\", \n",
    "                           field_names=[\"PaperName\",\"URL\",\"LastEdited\",\"Categories\",\"Source\"])"
   ]
  },
  {
   "cell_type": "code",
   "execution_count": 2,
   "metadata": {},
   "outputs": [],
   "source": [
    "def get_page_html(url):\n",
    "    \"\"\"Shorthand for retrieving a page's HTML and processing it into BeautifulSoup.\"\"\"\n",
    "    return BeautifulSoup(requests.get(url).text, \"lxml\")\n",
    "\n",
    "\n",
    "def download_pdf(pdf_url, file_destination):\n",
    "    \"\"\"Downloads a single PDF file from the given URL\"\"\"\n",
    "    response = requests.get(pdf_url)\n",
    "    with open(file_destination,'wb') as f:\n",
    "        f.write(response.content)"
   ]
  },
  {
   "cell_type": "code",
   "execution_count": null,
   "metadata": {},
   "outputs": [],
   "source": [
    "# set up the Selenium driver\n",
    "driver = webdriver.Firefox()"
   ]
  },
  {
   "cell_type": "code",
   "execution_count": 3,
   "metadata": {},
   "outputs": [],
   "source": [
    "driver.get(SEARCH_URL)\n",
    "sleep(5)\n",
    "page_html = BeautifulSoup(driver.page_source, \"lxml\")"
   ]
  },
  {
   "cell_type": "code",
   "execution_count": 7,
   "metadata": {},
   "outputs": [],
   "source": [
    "pagination_element = page_html.find_all(\"ul\", attrs={\"class\":\"pagination\"})[-1]\n",
    "last_page_link = pagination_element.find_all(\"li\", attrs={\"class\":\"ember-view\"})[-1]\n",
    "number_of_pages = int(last_page_link.text.strip())"
   ]
  },
  {
   "cell_type": "code",
   "execution_count": 8,
   "metadata": {},
   "outputs": [
    {
     "data": {
      "text/plain": [
       "443"
      ]
     },
     "execution_count": 8,
     "metadata": {},
     "output_type": "execute_result"
    }
   ],
   "source": [
    "number_of_pages"
   ]
  },
  {
   "cell_type": "markdown",
   "metadata": {},
   "source": [
    "### Places where information is located:\n",
    "- Title & link: \\<a\\> element inside lone \\<h4\\> element\n",
    "- Last edited date: lone \\<em\\> element\n",
    "- Categories: text in \\<span\\> elements with class=\"subject-preview\" (note: not all papers have categories\n",
    "- Source: text in \\<span\\> element with class=\"search-result-providers\""
   ]
  },
  {
   "cell_type": "code",
   "execution_count": 1,
   "metadata": {},
   "outputs": [],
   "source": [
    "def get_OSF_paper_info(paper_element):\n",
    "    paper_link = paper_element.find(\"h4\")\n",
    "    if paper_link.a:\n",
    "        paper_name = paper_link.a.text.strip()\n",
    "        paper_url = paper_link.a[\"href\"]\n",
    "    else:\n",
    "        paper_name = paper_link.span.text.strip()\n",
    "        paper_url = \"\"\n",
    "        \n",
    "    last_edited = paper_element.find(\"em\").text.strip()[13:-4]\n",
    "    \n",
    "    category_elements = paper_element.find_all(\"span\", attrs={\"class\":\"subject-preview\"})\n",
    "    if category_elements:\n",
    "        categories = [e.text.strip() for e in category_elements]\n",
    "    else:\n",
    "        categories = []\n",
    "    \n",
    "    source_name = paper_element.find(\"span\", attrs={\"class\":\"search-result-providers\"}).text.strip()\n",
    "    return OSFPaperTuple(paper_name, paper_url, last_edited, categories, source_name)"
   ]
  },
  {
   "cell_type": "code",
   "execution_count": 10,
   "metadata": {},
   "outputs": [
    {
     "name": "stderr",
     "output_type": "stream",
     "text": [
      "100%|██████████| 443/443 [39:02<00:00,  5.29s/it]\n"
     ]
    }
   ],
   "source": [
    "paper_tuples = []\n",
    "for page in tqdm(range(number_of_pages)):\n",
    "    target_page = f\"https://osf.io/preprints/discover?page={page+1}&q=depression\"\n",
    "    driver.get(target_page)\n",
    "    sleep(5)  ## try to avoid overwhelming the site\n",
    "    \n",
    "    page_html = BeautifulSoup(driver.page_source, \"lxml\")\n",
    "    papers_on_page = page_html.find_all(\"div\", attrs={\"class\": \"col-sm-8\"})[1]\n",
    "    paper_elements = papers_on_page.find_all(\"div\", attrs={\"class\":\"ember-view\"}, recursive=False)\n",
    "    current_page_tuples = [get_OSF_paper_info(p) for p in paper_elements]\n",
    "    paper_tuples.extend(current_page_tuples)"
   ]
  },
  {
   "cell_type": "code",
   "execution_count": 13,
   "metadata": {},
   "outputs": [],
   "source": [
    "paper_df = pd.DataFrame(paper_tuples)\n",
    "paper_df.to_csv(\"OSF_paper_info.csv\", index=False)"
   ]
  },
  {
   "cell_type": "code",
   "execution_count": 14,
   "metadata": {},
   "outputs": [],
   "source": [
    "driver.close()"
   ]
  },
  {
   "cell_type": "markdown",
   "metadata": {},
   "source": [
    "## ANALYSIS"
   ]
  },
  {
   "cell_type": "markdown",
   "metadata": {},
   "source": [
    "### Part 1: Source counts"
   ]
  },
  {
   "cell_type": "code",
   "execution_count": 2,
   "metadata": {},
   "outputs": [],
   "source": [
    "from collections import Counter\n",
    "import re\n",
    "\n",
    "import nltk\n",
    "from nltk.stem.snowball import SnowballStemmer"
   ]
  },
  {
   "cell_type": "code",
   "execution_count": 3,
   "metadata": {},
   "outputs": [],
   "source": [
    "stemmer = SnowballStemmer(\"english\")\n",
    "english_stopwords = set(nltk.corpus.stopwords.words(\"english\"))"
   ]
  },
  {
   "cell_type": "code",
   "execution_count": 4,
   "metadata": {},
   "outputs": [
    {
     "data": {
      "text/plain": [
       "4414"
      ]
     },
     "execution_count": 4,
     "metadata": {},
     "output_type": "execute_result"
    }
   ],
   "source": [
    "# note: I read this in later, so the Categories column is loaded\n",
    "# as a string instead of a list; that's fixed later\n",
    "paper_df = pd.read_csv(\"OSF_paper_info.csv\")\n",
    "len(paper_df)"
   ]
  },
  {
   "cell_type": "code",
   "execution_count": 5,
   "metadata": {},
   "outputs": [
    {
     "data": {
      "text/plain": [
       "3475"
      ]
     },
     "execution_count": 5,
     "metadata": {},
     "output_type": "execute_result"
    }
   ],
   "source": [
    "# there are duplicates, unfortunately\n",
    "paper_df = paper_df[~paper_df.duplicated()]\n",
    "len(paper_df)"
   ]
  },
  {
   "cell_type": "code",
   "execution_count": 8,
   "metadata": {
    "scrolled": false
   },
   "outputs": [
    {
     "data": {
      "text/plain": [
       "RePEc             1625\n",
       "PsyArXiv           696\n",
       "arXiv              433\n",
       "bioRxiv            297\n",
       "Preprints.org      159\n",
       "OSF Preprints      143\n",
       "SocArXiv            38\n",
       "PeerJ               28\n",
       "MindRxiv            15\n",
       "Thesis Commons       9\n",
       "INA-Rxiv             9\n",
       "SportRxiv            7\n",
       "EarthArXiv           6\n",
       "MetaArXiv            4\n",
       "AfricArXiv           2\n",
       "Cogprints            2\n",
       "AgriXiv              1\n",
       "NutriXiv             1\n",
       "Name: Source, dtype: int64"
      ]
     },
     "execution_count": 8,
     "metadata": {},
     "output_type": "execute_result"
    }
   ],
   "source": [
    "paper_df[\"Source\"].value_counts()"
   ]
  },
  {
   "cell_type": "code",
   "execution_count": 28,
   "metadata": {},
   "outputs": [
    {
     "data": {
      "text/plain": [
       "['Music and mood regulation during the early-stages of the COVID-19 pandemic',\n",
       " 'High frequency stimulation-induced plasticity in the prelimbic cortex of rats emerges during adolescent development and is associated with an increase in dopamine receptor function',\n",
       " 'Preprint BuckfieldSinclairGlautier (2019) Slow associative learning in alcohol dependence and the Alcohol Cue Exposure Treatment Paradox',\n",
       " 'Subclinical anxiety and depression are associated with deficits in attentional target facilitation, not distractor inhibition',\n",
       " 'Placebo response and psychosis: a putative shared mechanism',\n",
       " 'Combat stress in a small-scale society suggest divergent evolutionary roots for posttraumatic stress disorder symptoms']"
      ]
     },
     "execution_count": 28,
     "metadata": {},
     "output_type": "execute_result"
    }
   ],
   "source": [
    "import random\n",
    "random.sample(paper_df[paper_df[\"Source\"]==\"OSF Preprints\"][\"PaperName\"].tolist(), 6)"
   ]
  },
  {
   "cell_type": "markdown",
   "metadata": {},
   "source": [
    "### Part 2: Most common stems"
   ]
  },
  {
   "cell_type": "code",
   "execution_count": 13,
   "metadata": {},
   "outputs": [],
   "source": [
    "def title_list_to_stems(title_list, stemmer, stopwords):\n",
    "    # note: gotta use .lower(), otherwise stopwords aren't properly caught\n",
    "    word_list = [word for title in title_list for word in nltk.word_tokenize(title.lower())]\n",
    "    word_list = [word for word in word_list if re.search(\"[a-z]\", word)]\n",
    "    word_list = [word for word in word_list if word not in stopwords]\n",
    "    stems = [stemmer.stem(word) for word in word_list]\n",
    "    return stems"
   ]
  },
  {
   "cell_type": "code",
   "execution_count": 12,
   "metadata": {},
   "outputs": [],
   "source": [
    "num_most_common = 15\n",
    "sources_with_enough_papers = [\"RePEc\", \"PsyArXiv\", \"arXiv\", \"bioRxiv\", \"Preprints.org\", \"OSF Preprints\"]"
   ]
  },
  {
   "cell_type": "code",
   "execution_count": 14,
   "metadata": {},
   "outputs": [],
   "source": [
    "paper_stems_dict = {}\n",
    "for s in sources_with_enough_papers:\n",
    "    titles = paper_df[paper_df[\"Source\"] == s][\"PaperName\"].tolist()\n",
    "    stems = title_list_to_stems(titles, stemmer, english_stopwords)\n",
    "    most_common_stems = Counter(stems).most_common(num_most_common)\n",
    "    paper_stems_dict[s] = [m[0] for m in most_common_stems]"
   ]
  },
  {
   "cell_type": "code",
   "execution_count": 15,
   "metadata": {},
   "outputs": [
    {
     "data": {
      "text/html": [
       "<div>\n",
       "<style scoped>\n",
       "    .dataframe tbody tr th:only-of-type {\n",
       "        vertical-align: middle;\n",
       "    }\n",
       "\n",
       "    .dataframe tbody tr th {\n",
       "        vertical-align: top;\n",
       "    }\n",
       "\n",
       "    .dataframe thead th {\n",
       "        text-align: right;\n",
       "    }\n",
       "</style>\n",
       "<table border=\"1\" class=\"dataframe\">\n",
       "  <thead>\n",
       "    <tr style=\"text-align: right;\">\n",
       "      <th></th>\n",
       "      <th>RePEc</th>\n",
       "      <th>PsyArXiv</th>\n",
       "      <th>arXiv</th>\n",
       "      <th>bioRxiv</th>\n",
       "      <th>Preprints.org</th>\n",
       "      <th>OSF Preprints</th>\n",
       "    </tr>\n",
       "  </thead>\n",
       "  <tbody>\n",
       "    <tr>\n",
       "      <th>0</th>\n",
       "      <td>depress</td>\n",
       "      <td>depress</td>\n",
       "      <td>depress</td>\n",
       "      <td>depress</td>\n",
       "      <td>depress</td>\n",
       "      <td>depress</td>\n",
       "    </tr>\n",
       "    <tr>\n",
       "      <th>1</th>\n",
       "      <td>great</td>\n",
       "      <td>covid-19</td>\n",
       "      <td>effect</td>\n",
       "      <td>genet</td>\n",
       "      <td>health</td>\n",
       "      <td>health</td>\n",
       "    </tr>\n",
       "    <tr>\n",
       "      <th>2</th>\n",
       "      <td>financi</td>\n",
       "      <td>health</td>\n",
       "      <td>model</td>\n",
       "      <td>disord</td>\n",
       "      <td>mental</td>\n",
       "      <td>mental</td>\n",
       "    </tr>\n",
       "    <tr>\n",
       "      <th>3</th>\n",
       "      <td>econom</td>\n",
       "      <td>symptom</td>\n",
       "      <td>dynam</td>\n",
       "      <td>studi</td>\n",
       "      <td>effect</td>\n",
       "      <td>covid-19</td>\n",
       "    </tr>\n",
       "    <tr>\n",
       "      <th>4</th>\n",
       "      <td>crisi</td>\n",
       "      <td>mental</td>\n",
       "      <td>network</td>\n",
       "      <td>risk</td>\n",
       "      <td>among</td>\n",
       "      <td>symptom</td>\n",
       "    </tr>\n",
       "    <tr>\n",
       "      <th>5</th>\n",
       "      <td>polici</td>\n",
       "      <td>pandem</td>\n",
       "      <td>galaxi</td>\n",
       "      <td>associ</td>\n",
       "      <td>covid-19</td>\n",
       "      <td>studi</td>\n",
       "    </tr>\n",
       "    <tr>\n",
       "      <th>6</th>\n",
       "      <td>health</td>\n",
       "      <td>anxieti</td>\n",
       "      <td>synapt</td>\n",
       "      <td>effect</td>\n",
       "      <td>studi</td>\n",
       "      <td>review</td>\n",
       "    </tr>\n",
       "    <tr>\n",
       "      <th>7</th>\n",
       "      <td>bank</td>\n",
       "      <td>studi</td>\n",
       "      <td>magnet</td>\n",
       "      <td>major</td>\n",
       "      <td>disord</td>\n",
       "      <td>adolesc</td>\n",
       "    </tr>\n",
       "    <tr>\n",
       "      <th>8</th>\n",
       "      <td>evid</td>\n",
       "      <td>adolesc</td>\n",
       "      <td>star</td>\n",
       "      <td>brain</td>\n",
       "      <td>stress</td>\n",
       "      <td>disord</td>\n",
       "    </tr>\n",
       "    <tr>\n",
       "      <th>9</th>\n",
       "      <td>market</td>\n",
       "      <td>associ</td>\n",
       "      <td>use</td>\n",
       "      <td>analysi</td>\n",
       "      <td>patient</td>\n",
       "      <td>among</td>\n",
       "    </tr>\n",
       "    <tr>\n",
       "      <th>10</th>\n",
       "      <td>monetari</td>\n",
       "      <td>among</td>\n",
       "      <td>field</td>\n",
       "      <td>popul</td>\n",
       "      <td>associ</td>\n",
       "      <td>use</td>\n",
       "    </tr>\n",
       "    <tr>\n",
       "      <th>11</th>\n",
       "      <td>effect</td>\n",
       "      <td>psycholog</td>\n",
       "      <td>state</td>\n",
       "      <td>respons</td>\n",
       "      <td>use</td>\n",
       "      <td>pandem</td>\n",
       "    </tr>\n",
       "    <tr>\n",
       "      <th>12</th>\n",
       "      <td>'s</td>\n",
       "      <td>use</td>\n",
       "      <td>studi</td>\n",
       "      <td>plastic</td>\n",
       "      <td>children</td>\n",
       "      <td>associ</td>\n",
       "    </tr>\n",
       "    <tr>\n",
       "      <th>13</th>\n",
       "      <td>crise</td>\n",
       "      <td>network</td>\n",
       "      <td>observ</td>\n",
       "      <td>control</td>\n",
       "      <td>treatment</td>\n",
       "      <td>analysi</td>\n",
       "    </tr>\n",
       "    <tr>\n",
       "      <th>14</th>\n",
       "      <td>mental</td>\n",
       "      <td>social</td>\n",
       "      <td>superconduct</td>\n",
       "      <td>polygen</td>\n",
       "      <td>review</td>\n",
       "      <td>treatment</td>\n",
       "    </tr>\n",
       "  </tbody>\n",
       "</table>\n",
       "</div>"
      ],
      "text/plain": [
       "       RePEc   PsyArXiv         arXiv  bioRxiv Preprints.org OSF Preprints\n",
       "0    depress    depress       depress  depress       depress       depress\n",
       "1      great   covid-19        effect    genet        health        health\n",
       "2    financi     health         model   disord        mental        mental\n",
       "3     econom    symptom         dynam    studi        effect      covid-19\n",
       "4      crisi     mental       network     risk         among       symptom\n",
       "5     polici     pandem        galaxi   associ      covid-19         studi\n",
       "6     health    anxieti        synapt   effect         studi        review\n",
       "7       bank      studi        magnet    major        disord       adolesc\n",
       "8       evid    adolesc          star    brain        stress        disord\n",
       "9     market     associ           use  analysi       patient         among\n",
       "10  monetari      among         field    popul        associ           use\n",
       "11    effect  psycholog         state  respons           use        pandem\n",
       "12        's        use         studi  plastic      children        associ\n",
       "13     crise    network        observ  control     treatment       analysi\n",
       "14    mental     social  superconduct  polygen        review     treatment"
      ]
     },
     "execution_count": 15,
     "metadata": {},
     "output_type": "execute_result"
    }
   ],
   "source": [
    "pd.DataFrame(paper_stems_dict)"
   ]
  },
  {
   "cell_type": "code",
   "execution_count": 25,
   "metadata": {},
   "outputs": [
    {
     "data": {
      "text/plain": [
       "PsyArXiv         149\n",
       "Preprints.org     21\n",
       "OSF Preprints     19\n",
       "SocArXiv          11\n",
       "AfricArXiv         2\n",
       "arXiv              1\n",
       "Name: Source, dtype: int64"
      ]
     },
     "execution_count": 25,
     "metadata": {},
     "output_type": "execute_result"
    }
   ],
   "source": [
    "covid19_mentions = paper_df[paper_df[\"PaperName\"].apply(lambda x: \"covid\" in x.lower())]\n",
    "covid19_mentions[\"Source\"].value_counts()"
   ]
  },
  {
   "cell_type": "code",
   "execution_count": null,
   "metadata": {},
   "outputs": [],
   "source": [
    "AfricArXiv       1.000000\n",
    "OSF Preprints    0.132867\n",
    "Preprints.org    0.132075\n",
    "PsyArXiv         0.214080\n",
    "SocArXiv         0.289474\n",
    "arXiv            0.002309\n",
    "Name: Source, dtype: float64"
   ]
  },
  {
   "cell_type": "markdown",
   "metadata": {},
   "source": [
    "### Part 3: Counts of Categories"
   ]
  },
  {
   "cell_type": "code",
   "execution_count": 26,
   "metadata": {},
   "outputs": [],
   "source": [
    "paper_df[\"Categories\"] = paper_df[\"Categories\"].apply(eval)"
   ]
  },
  {
   "cell_type": "code",
   "execution_count": 27,
   "metadata": {},
   "outputs": [
    {
     "data": {
      "text/plain": [
       "0.6529496402877698"
      ]
     },
     "execution_count": 27,
     "metadata": {},
     "output_type": "execute_result"
    }
   ],
   "source": [
    "(paper_df[\"Categories\"].apply(lambda x: x == [])).mean()"
   ]
  },
  {
   "cell_type": "code",
   "execution_count": 28,
   "metadata": {},
   "outputs": [
    {
     "data": {
      "text/html": [
       "<div>\n",
       "<style scoped>\n",
       "    .dataframe tbody tr th:only-of-type {\n",
       "        vertical-align: middle;\n",
       "    }\n",
       "\n",
       "    .dataframe tbody tr th {\n",
       "        vertical-align: top;\n",
       "    }\n",
       "\n",
       "    .dataframe thead th {\n",
       "        text-align: right;\n",
       "    }\n",
       "</style>\n",
       "<table border=\"1\" class=\"dataframe\">\n",
       "  <thead>\n",
       "    <tr style=\"text-align: right;\">\n",
       "      <th>Categories</th>\n",
       "      <th>False</th>\n",
       "      <th>True</th>\n",
       "    </tr>\n",
       "    <tr>\n",
       "      <th>Source</th>\n",
       "      <th></th>\n",
       "      <th></th>\n",
       "    </tr>\n",
       "  </thead>\n",
       "  <tbody>\n",
       "    <tr>\n",
       "      <th>AfricArXiv</th>\n",
       "      <td>2</td>\n",
       "      <td>0</td>\n",
       "    </tr>\n",
       "    <tr>\n",
       "      <th>AgriXiv</th>\n",
       "      <td>1</td>\n",
       "      <td>0</td>\n",
       "    </tr>\n",
       "    <tr>\n",
       "      <th>Cogprints</th>\n",
       "      <td>0</td>\n",
       "      <td>2</td>\n",
       "    </tr>\n",
       "    <tr>\n",
       "      <th>EarthArXiv</th>\n",
       "      <td>6</td>\n",
       "      <td>0</td>\n",
       "    </tr>\n",
       "    <tr>\n",
       "      <th>INA-Rxiv</th>\n",
       "      <td>9</td>\n",
       "      <td>0</td>\n",
       "    </tr>\n",
       "    <tr>\n",
       "      <th>MetaArXiv</th>\n",
       "      <td>4</td>\n",
       "      <td>0</td>\n",
       "    </tr>\n",
       "    <tr>\n",
       "      <th>MindRxiv</th>\n",
       "      <td>15</td>\n",
       "      <td>0</td>\n",
       "    </tr>\n",
       "    <tr>\n",
       "      <th>NutriXiv</th>\n",
       "      <td>1</td>\n",
       "      <td>0</td>\n",
       "    </tr>\n",
       "    <tr>\n",
       "      <th>OSF Preprints</th>\n",
       "      <td>143</td>\n",
       "      <td>0</td>\n",
       "    </tr>\n",
       "    <tr>\n",
       "      <th>PeerJ</th>\n",
       "      <td>28</td>\n",
       "      <td>0</td>\n",
       "    </tr>\n",
       "    <tr>\n",
       "      <th>Preprints.org</th>\n",
       "      <td>20</td>\n",
       "      <td>139</td>\n",
       "    </tr>\n",
       "    <tr>\n",
       "      <th>PsyArXiv</th>\n",
       "      <td>696</td>\n",
       "      <td>0</td>\n",
       "    </tr>\n",
       "    <tr>\n",
       "      <th>RePEc</th>\n",
       "      <td>0</td>\n",
       "      <td>1625</td>\n",
       "    </tr>\n",
       "    <tr>\n",
       "      <th>SocArXiv</th>\n",
       "      <td>38</td>\n",
       "      <td>0</td>\n",
       "    </tr>\n",
       "    <tr>\n",
       "      <th>SportRxiv</th>\n",
       "      <td>7</td>\n",
       "      <td>0</td>\n",
       "    </tr>\n",
       "    <tr>\n",
       "      <th>Thesis Commons</th>\n",
       "      <td>9</td>\n",
       "      <td>0</td>\n",
       "    </tr>\n",
       "    <tr>\n",
       "      <th>arXiv</th>\n",
       "      <td>179</td>\n",
       "      <td>254</td>\n",
       "    </tr>\n",
       "    <tr>\n",
       "      <th>bioRxiv</th>\n",
       "      <td>48</td>\n",
       "      <td>249</td>\n",
       "    </tr>\n",
       "  </tbody>\n",
       "</table>\n",
       "</div>"
      ],
      "text/plain": [
       "Categories      False  True \n",
       "Source                      \n",
       "AfricArXiv          2      0\n",
       "AgriXiv             1      0\n",
       "Cogprints           0      2\n",
       "EarthArXiv          6      0\n",
       "INA-Rxiv            9      0\n",
       "MetaArXiv           4      0\n",
       "MindRxiv           15      0\n",
       "NutriXiv            1      0\n",
       "OSF Preprints     143      0\n",
       "PeerJ              28      0\n",
       "Preprints.org      20    139\n",
       "PsyArXiv          696      0\n",
       "RePEc               0   1625\n",
       "SocArXiv           38      0\n",
       "SportRxiv           7      0\n",
       "Thesis Commons      9      0\n",
       "arXiv             179    254\n",
       "bioRxiv            48    249"
      ]
     },
     "execution_count": 28,
     "metadata": {},
     "output_type": "execute_result"
    }
   ],
   "source": [
    "pd.crosstab(paper_df[\"Source\"], paper_df[\"Categories\"].apply(lambda x: x == []))"
   ]
  },
  {
   "cell_type": "code",
   "execution_count": 29,
   "metadata": {},
   "outputs": [
    {
     "data": {
      "text/plain": [
       "[('Social and Behavioral Sciences', 760),\n",
       " ('Psychology', 673),\n",
       " ('Clinical Psychology', 433),\n",
       " ('Medicine and Health Sciences', 376),\n",
       " ('Medical Specialties', 260),\n",
       " ('Psychiatry', 255),\n",
       " ('Life Sciences', 162),\n",
       " ('Health Psychology', 127),\n",
       " ('Biology', 126),\n",
       " ('Neuroscience and Neurobiology', 120),\n",
       " ('Psychiatry and Psychology', 103),\n",
       " ('Child Psychology', 85),\n",
       " ('Personality and Social Contexts', 78),\n",
       " ('Cognitive Psychology', 77),\n",
       " ('Physics', 75),\n",
       " ('Quantitative Psychology', 66),\n",
       " ('Mental Disorders', 59),\n",
       " ('Social Psychology', 56),\n",
       " ('Developmental Psychology', 45),\n",
       " ('Counseling Psychology', 38)]"
      ]
     },
     "execution_count": 29,
     "metadata": {},
     "output_type": "execute_result"
    }
   ],
   "source": [
    "Counter([x for y in paper_df[\"Categories\"].tolist() for x in y]).most_common(20)"
   ]
  },
  {
   "cell_type": "markdown",
   "metadata": {},
   "source": [
    "### Part 4: Year counts"
   ]
  },
  {
   "cell_type": "code",
   "execution_count": 10,
   "metadata": {},
   "outputs": [
    {
     "data": {
      "text/plain": [
       "2007     40\n",
       "2008     16\n",
       "2009     82\n",
       "2010     11\n",
       "2011     22\n",
       "2012     31\n",
       "2013    176\n",
       "2014    458\n",
       "2015    488\n",
       "2016    638\n",
       "2017    258\n",
       "2018    309\n",
       "2019    138\n",
       "2020    441\n",
       "2021    367\n",
       "Name: Year, dtype: int64"
      ]
     },
     "execution_count": 10,
     "metadata": {},
     "output_type": "execute_result"
    }
   ],
   "source": [
    "paper_df[\"LastEdited\"] = pd.to_datetime(paper_df[\"LastEdited\"])\n",
    "paper_df[\"Year\"] = paper_df[\"LastEdited\"].dt.year\n",
    "paper_df[\"Year\"].value_counts().sort_index()"
   ]
  },
  {
   "cell_type": "code",
   "execution_count": 17,
   "metadata": {},
   "outputs": [
    {
     "data": {
      "text/html": [
       "<div>\n",
       "<style scoped>\n",
       "    .dataframe tbody tr th:only-of-type {\n",
       "        vertical-align: middle;\n",
       "    }\n",
       "\n",
       "    .dataframe tbody tr th {\n",
       "        vertical-align: top;\n",
       "    }\n",
       "\n",
       "    .dataframe thead th {\n",
       "        text-align: right;\n",
       "    }\n",
       "</style>\n",
       "<table border=\"1\" class=\"dataframe\">\n",
       "  <thead>\n",
       "    <tr style=\"text-align: right;\">\n",
       "      <th>Source</th>\n",
       "      <th>OSF Preprints</th>\n",
       "      <th>Preprints.org</th>\n",
       "      <th>PsyArXiv</th>\n",
       "      <th>RePEc</th>\n",
       "      <th>arXiv</th>\n",
       "      <th>bioRxiv</th>\n",
       "    </tr>\n",
       "    <tr>\n",
       "      <th>Year</th>\n",
       "      <th></th>\n",
       "      <th></th>\n",
       "      <th></th>\n",
       "      <th></th>\n",
       "      <th></th>\n",
       "      <th></th>\n",
       "    </tr>\n",
       "  </thead>\n",
       "  <tbody>\n",
       "    <tr>\n",
       "      <th>2007</th>\n",
       "      <td>0</td>\n",
       "      <td>0</td>\n",
       "      <td>0</td>\n",
       "      <td>0</td>\n",
       "      <td>40</td>\n",
       "      <td>0</td>\n",
       "    </tr>\n",
       "    <tr>\n",
       "      <th>2008</th>\n",
       "      <td>0</td>\n",
       "      <td>0</td>\n",
       "      <td>0</td>\n",
       "      <td>0</td>\n",
       "      <td>16</td>\n",
       "      <td>0</td>\n",
       "    </tr>\n",
       "    <tr>\n",
       "      <th>2009</th>\n",
       "      <td>0</td>\n",
       "      <td>0</td>\n",
       "      <td>0</td>\n",
       "      <td>0</td>\n",
       "      <td>82</td>\n",
       "      <td>0</td>\n",
       "    </tr>\n",
       "    <tr>\n",
       "      <th>2010</th>\n",
       "      <td>0</td>\n",
       "      <td>0</td>\n",
       "      <td>0</td>\n",
       "      <td>0</td>\n",
       "      <td>11</td>\n",
       "      <td>0</td>\n",
       "    </tr>\n",
       "    <tr>\n",
       "      <th>2011</th>\n",
       "      <td>0</td>\n",
       "      <td>0</td>\n",
       "      <td>0</td>\n",
       "      <td>0</td>\n",
       "      <td>22</td>\n",
       "      <td>0</td>\n",
       "    </tr>\n",
       "    <tr>\n",
       "      <th>2012</th>\n",
       "      <td>0</td>\n",
       "      <td>0</td>\n",
       "      <td>0</td>\n",
       "      <td>0</td>\n",
       "      <td>31</td>\n",
       "      <td>0</td>\n",
       "    </tr>\n",
       "    <tr>\n",
       "      <th>2013</th>\n",
       "      <td>0</td>\n",
       "      <td>0</td>\n",
       "      <td>0</td>\n",
       "      <td>156</td>\n",
       "      <td>19</td>\n",
       "      <td>0</td>\n",
       "    </tr>\n",
       "    <tr>\n",
       "      <th>2014</th>\n",
       "      <td>0</td>\n",
       "      <td>0</td>\n",
       "      <td>0</td>\n",
       "      <td>412</td>\n",
       "      <td>30</td>\n",
       "      <td>5</td>\n",
       "    </tr>\n",
       "    <tr>\n",
       "      <th>2015</th>\n",
       "      <td>0</td>\n",
       "      <td>0</td>\n",
       "      <td>0</td>\n",
       "      <td>381</td>\n",
       "      <td>90</td>\n",
       "      <td>7</td>\n",
       "    </tr>\n",
       "    <tr>\n",
       "      <th>2016</th>\n",
       "      <td>0</td>\n",
       "      <td>5</td>\n",
       "      <td>0</td>\n",
       "      <td>540</td>\n",
       "      <td>46</td>\n",
       "      <td>44</td>\n",
       "    </tr>\n",
       "    <tr>\n",
       "      <th>2017</th>\n",
       "      <td>0</td>\n",
       "      <td>11</td>\n",
       "      <td>0</td>\n",
       "      <td>134</td>\n",
       "      <td>30</td>\n",
       "      <td>82</td>\n",
       "    </tr>\n",
       "    <tr>\n",
       "      <th>2018</th>\n",
       "      <td>22</td>\n",
       "      <td>30</td>\n",
       "      <td>64</td>\n",
       "      <td>2</td>\n",
       "      <td>9</td>\n",
       "      <td>150</td>\n",
       "    </tr>\n",
       "    <tr>\n",
       "      <th>2019</th>\n",
       "      <td>14</td>\n",
       "      <td>29</td>\n",
       "      <td>66</td>\n",
       "      <td>0</td>\n",
       "      <td>5</td>\n",
       "      <td>9</td>\n",
       "    </tr>\n",
       "    <tr>\n",
       "      <th>2020</th>\n",
       "      <td>58</td>\n",
       "      <td>54</td>\n",
       "      <td>299</td>\n",
       "      <td>0</td>\n",
       "      <td>2</td>\n",
       "      <td>0</td>\n",
       "    </tr>\n",
       "    <tr>\n",
       "      <th>2021</th>\n",
       "      <td>49</td>\n",
       "      <td>30</td>\n",
       "      <td>267</td>\n",
       "      <td>0</td>\n",
       "      <td>0</td>\n",
       "      <td>0</td>\n",
       "    </tr>\n",
       "  </tbody>\n",
       "</table>\n",
       "</div>"
      ],
      "text/plain": [
       "Source  OSF Preprints  Preprints.org  PsyArXiv  RePEc  arXiv  bioRxiv\n",
       "Year                                                                 \n",
       "2007                0              0         0      0     40        0\n",
       "2008                0              0         0      0     16        0\n",
       "2009                0              0         0      0     82        0\n",
       "2010                0              0         0      0     11        0\n",
       "2011                0              0         0      0     22        0\n",
       "2012                0              0         0      0     31        0\n",
       "2013                0              0         0    156     19        0\n",
       "2014                0              0         0    412     30        5\n",
       "2015                0              0         0    381     90        7\n",
       "2016                0              5         0    540     46       44\n",
       "2017                0             11         0    134     30       82\n",
       "2018               22             30        64      2      9      150\n",
       "2019               14             29        66      0      5        9\n",
       "2020               58             54       299      0      2        0\n",
       "2021               49             30       267      0      0        0"
      ]
     },
     "execution_count": 17,
     "metadata": {},
     "output_type": "execute_result"
    }
   ],
   "source": [
    "papers_with_good_sources = paper_df[paper_df[\"Source\"].isin(sources_with_enough_papers)]\n",
    "pd.crosstab(papers_with_good_sources[\"Year\"], papers_with_good_sources[\"Source\"])"
   ]
  },
  {
   "cell_type": "code",
   "execution_count": null,
   "metadata": {},
   "outputs": [],
   "source": [
    "## stacked bar chart of year, normalized to 1, colored by sources"
   ]
  },
  {
   "cell_type": "code",
   "execution_count": 39,
   "metadata": {},
   "outputs": [
    {
     "data": {
      "text/plain": [
       "<AxesSubplot:xlabel='Year', ylabel='Count'>"
      ]
     },
     "execution_count": 39,
     "metadata": {},
     "output_type": "execute_result"
    },
    {
     "data": {
      "image/png": "[encoded data removed]",
      "text/plain": [
       "<Figure size 576x396 with 1 Axes>"
      ]
     },
     "metadata": {},
     "output_type": "display_data"
    }
   ],
   "source": [
    "import seaborn as sns\n",
    "sns.set(rc={\"figure.figsize\": (8,5.5)})\n",
    "sns.histplot(papers_with_good_sources, x=\"Year\", hue=\"Source\",\n",
    "             multiple=\"stack\", discrete=True)"
   ]
  },
  {
   "cell_type": "code",
   "execution_count": 34,
   "metadata": {},
   "outputs": [],
   "source": [
    "?sns.histplot"
   ]
  }
 ],
 "metadata": {
  "kernelspec": {
   "display_name": "Python 3",
   "language": "python",
   "name": "python3"
  },
  "language_info": {
   "codemirror_mode": {
    "name": "ipython",
    "version": 3
   },
   "file_extension": ".py",
   "mimetype": "text/x-python",
   "name": "python",
   "nbconvert_exporter": "python",
   "pygments_lexer": "ipython3",
   "version": "3.8.10"
  }
 },
 "nbformat": 4,
 "nbformat_minor": 4
}
